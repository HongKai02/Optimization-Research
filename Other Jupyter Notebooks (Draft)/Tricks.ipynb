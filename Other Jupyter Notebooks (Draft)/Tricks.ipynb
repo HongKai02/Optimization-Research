{
 "cells": [
  {
   "cell_type": "code",
   "execution_count": null,
   "id": "cb5c5213-78ef-477f-97ca-bf1b9edc6d18",
   "metadata": {},
   "outputs": [],
   "source": [
    "        object_methods = [method_name for method_name in dir(cutConstraints)\n",
    "                          if callable(getattr(cutConstraints, method_name))]"
   ]
  },
  {
   "cell_type": "code",
   "execution_count": null,
   "id": "38b26cde-fd01-43d3-b6db-14d43884a433",
   "metadata": {},
   "outputs": [],
   "source": [
    "the vars(object) trick"
   ]
  }
 ],
 "metadata": {
  "kernelspec": {
   "display_name": "Python 3 (ipykernel)",
   "language": "python",
   "name": "python3"
  },
  "language_info": {
   "codemirror_mode": {
    "name": "ipython",
    "version": 3
   },
   "file_extension": ".py",
   "mimetype": "text/x-python",
   "name": "python",
   "nbconvert_exporter": "python",
   "pygments_lexer": "ipython3",
   "version": "3.11.7"
  }
 },
 "nbformat": 4,
 "nbformat_minor": 5
}
