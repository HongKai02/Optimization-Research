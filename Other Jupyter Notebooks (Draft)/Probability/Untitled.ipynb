{
 "cells": [
  {
   "cell_type": "code",
   "execution_count": 2,
   "id": "dda4f33f-1a5b-448b-8718-2d4068b5f422",
   "metadata": {},
   "outputs": [],
   "source": [
    "import numpy as np\n",
    "import matplotlib.pyplot as plt\n"
   ]
  },
  {
   "cell_type": "code",
   "execution_count": 46,
   "id": "0fe5f17d-a48d-4647-8272-d87f3085c82e",
   "metadata": {},
   "outputs": [],
   "source": [
    "data = [11, 10, 12, 104, 13, 15, 20, 9, 8, 10, 15, 16, 17, 19, 22, 30, 15, 12, 30, 11, 12, 101, 11]"
   ]
  },
  {
   "cell_type": "code",
   "execution_count": 47,
   "id": "b17f026b-591c-4030-929f-e37072fa14e2",
   "metadata": {},
   "outputs": [],
   "source": [
    "outliers = []\n",
    "def detect_outliers(data):\n",
    "    mean = np.mean(data)\n",
    "    sd = np.std(data)\n",
    "    for i in data:\n",
    "        z_score = (i - mean) / sd\n",
    "        print(z_score)\n",
    "        if np.abs(z_score) > 3:\n",
    "            outliers.append(i)\n",
    "    return outliers\n",
    "    "
   ]
  },
  {
   "cell_type": "code",
   "execution_count": 48,
   "id": "067c4ff8-80b3-4e08-9a5d-bf5a69b55d63",
   "metadata": {},
   "outputs": [
    {
     "name": "stdout",
     "output_type": "stream",
     "text": [
      "-0.4643701564462633\n",
      "-0.5039276142176116\n",
      "-0.4248126986749149\n",
      "3.2144734162891333\n",
      "-0.38525524090356655\n",
      "-0.3061403253608699\n",
      "-0.10835303650412811\n",
      "-0.54348507198896\n",
      "-0.5830425297603083\n",
      "-0.5039276142176116\n",
      "-0.3061403253608699\n",
      "-0.2665828675895215\n",
      "-0.22702540981817315\n",
      "-0.14791049427547645\n",
      "-0.029238120961431413\n",
      "0.2872215412093554\n",
      "-0.3061403253608699\n",
      "-0.4248126986749149\n",
      "0.2872215412093554\n",
      "-0.4643701564462633\n",
      "-0.4248126986749149\n",
      "3.095801042975088\n",
      "-0.4643701564462633\n",
      "[104, 101]\n"
     ]
    }
   ],
   "source": [
    "outlierArr = detect_outliers(data)\n",
    "print(outlierArr)"
   ]
  },
  {
   "cell_type": "code",
   "execution_count": 50,
   "id": "29b8541d-db40-48d3-bdb0-38ded200755b",
   "metadata": {},
   "outputs": [],
   "source": [
    "q1, q3 = np.percentile(data, [25, 75])"
   ]
  },
  {
   "cell_type": "code",
   "execution_count": 51,
   "id": "f2d01d33-2518-4377-a8a6-c55d2d08b264",
   "metadata": {},
   "outputs": [
    {
     "name": "stdout",
     "output_type": "stream",
     "text": [
      "11.0 19.5\n"
     ]
    }
   ],
   "source": [
    "print(q1, q3)"
   ]
  },
  {
   "cell_type": "code",
   "execution_count": 53,
   "id": "3e6b2c25-257d-4afe-b292-6f789b40a45f",
   "metadata": {},
   "outputs": [
    {
     "name": "stdout",
     "output_type": "stream",
     "text": [
      "8.5\n"
     ]
    }
   ],
   "source": [
    "# Find IQR\n",
    "iqr = q3 - q1\n",
    "print(iqr)"
   ]
  },
  {
   "cell_type": "code",
   "execution_count": 55,
   "id": "a52ac9e5-be4f-4b45-b18a-3e29afc5dae7",
   "metadata": {},
   "outputs": [
    {
     "name": "stdout",
     "output_type": "stream",
     "text": [
      "-1.75\n",
      "32.25\n"
     ]
    }
   ],
   "source": [
    "# Find lower and upper bound\n",
    "lb = q1 - 1.5*iqr\n",
    "ub = q3 + 1.5*iqr\n",
    "print(lb)\n",
    "print(ub)"
   ]
  },
  {
   "cell_type": "code",
   "execution_count": 56,
   "id": "f0f26ba5-5914-4118-b473-34023ed38371",
   "metadata": {},
   "outputs": [
    {
     "name": "stdout",
     "output_type": "stream",
     "text": [
      "[104, 101]\n"
     ]
    }
   ],
   "source": [
    "out = []\n",
    "for i in data:\n",
    "    if i < lb or i > ub:\n",
    "        out.append(i)\n",
    "print(out)"
   ]
  }
 ],
 "metadata": {
  "kernelspec": {
   "display_name": "Python 3 (ipykernel)",
   "language": "python",
   "name": "python3"
  },
  "language_info": {
   "codemirror_mode": {
    "name": "ipython",
    "version": 3
   },
   "file_extension": ".py",
   "mimetype": "text/x-python",
   "name": "python",
   "nbconvert_exporter": "python",
   "pygments_lexer": "ipython3",
   "version": "3.11.7"
  }
 },
 "nbformat": 4,
 "nbformat_minor": 5
}
