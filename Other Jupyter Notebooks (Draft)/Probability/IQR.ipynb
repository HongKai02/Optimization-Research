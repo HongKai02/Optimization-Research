{
 "cells": [
  {
   "cell_type": "code",
   "execution_count": null,
   "id": "119b5963-1dfc-4855-90ac-5a9408168460",
   "metadata": {},
   "outputs": [],
   "source": [
    "Q1 = df.get(\"Height\").quantile(0.25)\n",
    "Q3 = df.get(\"Height\").quantile(0.75)\n",
    "Q1, Q3"
   ]
  },
  {
   "cell_type": "code",
   "execution_count": null,
   "id": "1696d7a4-01e9-4d16-aeeb-26af83399edb",
   "metadata": {},
   "outputs": [],
   "source": [
    "IQR = Q3 - Q1\n",
    "IQR"
   ]
  },
  {
   "cell_type": "code",
   "execution_count": null,
   "id": "3ae9bcf4-485b-4a88-9628-cb37f6bbff70",
   "metadata": {},
   "outputs": [],
   "source": [
    "lower_limit = Q1 - 1.5*IQR\n",
    "upper_limit = Q3 + 1.5*IQR\n",
    "lower_limit, upper_limit"
   ]
  }
 ],
 "metadata": {
  "kernelspec": {
   "display_name": "Python 3 (ipykernel)",
   "language": "python",
   "name": "python3"
  },
  "language_info": {
   "codemirror_mode": {
    "name": "ipython",
    "version": 3
   },
   "file_extension": ".py",
   "mimetype": "text/x-python",
   "name": "python",
   "nbconvert_exporter": "python",
   "pygments_lexer": "ipython3",
   "version": "3.11.7"
  }
 },
 "nbformat": 4,
 "nbformat_minor": 5
}
